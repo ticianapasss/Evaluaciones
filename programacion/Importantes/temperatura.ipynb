{
 "cells": [
  {
   "cell_type": "code",
   "execution_count": 2,
   "metadata": {},
   "outputs": [
    {
     "name": "stdout",
     "output_type": "stream",
     "text": [
      "Este programa covierte las temperaturas entre celsius y fahrenheit\n"
     ]
    }
   ],
   "source": [
    "print (\"Este programa covierte las temperaturas entre celsius y fahrenheit\")\n",
    "\n",
    "def menu():\n",
    "\n",
    "    menuInicio= '''\n",
    "    ******************************************\n",
    "    *    1 DE CELSIUS A FAHRENHEIT           *\n",
    "    *    2 DE FAHRENHEIT A CELSIUS           *\n",
    "    *    3 SALIR                             *\n",
    "    ******************************************\n",
    "    '''\n",
    "    print (menuInicio)\n",
    "\n",
    "    cual = int (input ( \"Ingrese a la opcion: \"))\n",
    "    \n",
    "    return (cual)"
   ]
  },
  {
   "cell_type": "code",
   "execution_count": 7,
   "metadata": {},
   "outputs": [
    {
     "name": "stdout",
     "output_type": "stream",
     "text": [
      "\n",
      "    ******************************************\n",
      "    *    1 DE CELSIUS A FAHRENHEIT           *\n",
      "    *    2 DE FAHRENHEIT A CELSIUS           *\n",
      "    *    3 SALIR                             *\n",
      "    ******************************************\n",
      "    \n"
     ]
    }
   ],
   "source": [
    "while True:\n",
    "    cual = menu()\n",
    "    if cual == 3:\n",
    "        print (\"Gracias por ver el programa\")\n",
    "    break"
   ]
  },
  {
   "cell_type": "code",
   "execution_count": 15,
   "metadata": {},
   "outputs": [],
   "source": [
    "def celcius():\n",
    "    gc = (gf - 32) / 1.8\n",
    "    return (gc)"
   ]
  },
  {
   "cell_type": "code",
   "execution_count": 16,
   "metadata": {},
   "outputs": [],
   "source": [
    "def farhrenheit():\n",
    "    gc = gf * 1.8 + 32\n",
    "    return (gc)"
   ]
  },
  {
   "cell_type": "code",
   "execution_count": 22,
   "metadata": {},
   "outputs": [
    {
     "name": "stdout",
     "output_type": "stream",
     "text": [
      "\n",
      "    ******************************************\n",
      "    *    1 DE CELSIUS A FAHRENHEIT           *\n",
      "    *    2 DE FAHRENHEIT A CELSIUS           *\n",
      "    *    3 SALIR                             *\n",
      "    ******************************************\n",
      "    \n"
     ]
    },
    {
     "ename": "NameError",
     "evalue": "name 'farhenheit' is not defined",
     "output_type": "error",
     "traceback": [
      "\u001b[1;31m---------------------------------------------------------------------------\u001b[0m",
      "\u001b[1;31mNameError\u001b[0m                                 Traceback (most recent call last)",
      "Cell \u001b[1;32mIn[22], line 13\u001b[0m\n\u001b[0;32m     10\u001b[0m     \u001b[39mprint\u001b[39m (celcius())\n\u001b[0;32m     12\u001b[0m \u001b[39melif\u001b[39;00m cual \u001b[39m==\u001b[39m \u001b[39m2\u001b[39m :\n\u001b[1;32m---> 13\u001b[0m     \u001b[39mprint\u001b[39m (farhenheit())\n\u001b[0;32m     15\u001b[0m     \u001b[39mbreak\u001b[39;00m\n",
      "\u001b[1;31mNameError\u001b[0m: name 'farhenheit' is not defined"
     ]
    }
   ],
   "source": [
    "gf = float (input(\"Ingrese los grados que quiere convertir\"))\n",
    "\n",
    "while True:\n",
    "    cual = menu()\n",
    "    if cual == 3:\n",
    "        print (\"Gracias por ver el programa\")\n",
    "        break\n",
    "    else:\n",
    "        if cual == 1:\n",
    "            print (celcius())\n",
    "\n",
    "        elif cual == 2 :\n",
    "            print (farhenheit())\n",
    "\n",
    "            break\n"
   ]
  }
 ],
 "metadata": {
  "kernelspec": {
   "display_name": "Python 3",
   "language": "python",
   "name": "python3"
  },
  "language_info": {
   "codemirror_mode": {
    "name": "ipython",
    "version": 3
   },
   "file_extension": ".py",
   "mimetype": "text/x-python",
   "name": "python",
   "nbconvert_exporter": "python",
   "pygments_lexer": "ipython3",
   "version": "3.11.2"
  },
  "orig_nbformat": 4
 },
 "nbformat": 4,
 "nbformat_minor": 2
}
