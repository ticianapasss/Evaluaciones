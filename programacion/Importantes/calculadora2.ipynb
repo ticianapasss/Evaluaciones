{
 "cells": [
  {
   "cell_type": "code",
   "execution_count": 19,
   "metadata": {},
   "outputs": [],
   "source": [
    "def menuInicio():\n",
    "    opciones = '''\n",
    "    *********************\n",
    "    *       MENU        *\n",
    "    *  1-SUMA           *\n",
    "    *  2-RESTA          *\n",
    "    *  3-MULTIPLICACION *\n",
    "    *  4-DIVISION       *\n",
    "    *  5-SALIDA         *\n",
    "    *                   *\n",
    "    *********************\n",
    "    '''\n",
    "    #print(menuInicio)\n",
    "    \n",
    "    return(print(opciones))"
   ]
  },
  {
   "cell_type": "code",
   "execution_count": null,
   "metadata": {},
   "outputs": [],
   "source": [
    "menuInicio()\n",
    "opcion = int(input(\"ingrese un numero del 1 al 5 para elegir una opcion: \"))"
   ]
  },
  {
   "cell_type": "code",
   "execution_count": 21,
   "metadata": {},
   "outputs": [],
   "source": [
    "\n",
    "\n",
    "def suma(a,b):\n",
    "    return(a+b)\n",
    "\n",
    "def resta(a,b):\n",
    "    return(a-b)\n",
    "\n",
    "def multi(a,b):\n",
    "    return(a*b)\n",
    "\n",
    "def division(a,b):\n",
    "    if b == 0:\n",
    "        b = int(input(\"no se puede dividir por cero. ingrese el segundo numero entero para realizar la operacion:\"))\n",
    "\n",
    "    else:\n",
    "        return(a/b)\n"
   ]
  },
  {
   "cell_type": "code",
   "execution_count": null,
   "metadata": {},
   "outputs": [],
   "source": [
    "while True:\n",
    "    if opcion == 5:\n",
    "        break\n",
    "\n",
    "    num1 = int(input(\"ingrese el primer numero entero para realizar la operacion: \"))\n",
    "    num2 = int(input(\"ingrese el segundo numero entero para realizar la operacion: \"))\n",
    "\n",
    "    else:\n",
    "    \n",
    "        if opcion == 1:\n",
    "            print(suma)\n"
   ]
  }
 ],
 "metadata": {
  "kernelspec": {
   "display_name": "Python 3",
   "language": "python",
   "name": "python3"
  },
  "language_info": {
   "codemirror_mode": {
    "name": "ipython",
    "version": 3
   },
   "file_extension": ".py",
   "mimetype": "text/x-python",
   "name": "python",
   "nbconvert_exporter": "python",
   "pygments_lexer": "ipython3",
   "version": "3.11.2"
  },
  "orig_nbformat": 4
 },
 "nbformat": 4,
 "nbformat_minor": 2
}
