{
 "cells": [
  {
   "cell_type": "code",
   "execution_count": 6,
   "metadata": {},
   "outputs": [
    {
     "name": "stdout",
     "output_type": "stream",
     "text": [
      "Esta calculadora va a sumar, restar, multiplicar o dividir segun lo que usted quiera\n"
     ]
    }
   ],
   "source": [
    "def menu():\n",
    "    opciones = '''\n",
    "    ******************************************\n",
    "    *                1 SUMAR                 *\n",
    "    *                2 RESTAR                *\n",
    "    *                3 MULTIPLICAR           *\n",
    "    *                4 DIVIDIR               *\n",
    "    *                5 SALIR                 *\n",
    "    ******************************************\n",
    "    '''\n",
    "    print (menuInicio)\n",
    "    opcion= int (input (\"ingrese que operacion quiere realizar\"))\n",
    "    return(opcion)"
   ]
  },
  {
   "cell_type": "code",
   "execution_count": 7,
   "metadata": {},
   "outputs": [],
   "source": [
    "def suma (a, b):\n",
    "   return (a + b)\n",
    "\n",
    "def resta (a, b):\n",
    "    return (a - b)\n",
    "\n",
    "def multiplicacion (a, b):\n",
    "    return (a * b)\n",
    "\n",
    "def division (a, b):\n",
    "\n",
    "    if b == 0:\n",
    "        print(\"No se puede dividir por 0\")\n",
    "        (exit)\n",
    "    else:\n",
    "        return (a / b)\n",
    "    "
   ]
  },
  {
   "cell_type": "code",
   "execution_count": 9,
   "metadata": {},
   "outputs": [
    {
     "ename": "IndentationError",
     "evalue": "unexpected indent (1500026524.py, line 9)",
     "output_type": "error",
     "traceback": [
      "\u001b[1;36m  Cell \u001b[1;32mIn[9], line 9\u001b[1;36m\u001b[0m\n\u001b[1;33m    if opcion == 1 :\u001b[0m\n\u001b[1;37m    ^\u001b[0m\n\u001b[1;31mIndentationError\u001b[0m\u001b[1;31m:\u001b[0m unexpected indent\n"
     ]
    }
   ],
   "source": [
    "opcion= int (input (\"ingrese que operacion quiere realizar\"))\n",
    "\n",
    "while True: \n",
    "     if opcion == 5 :\n",
    "          break\n",
    "     else:\n",
    "        num1 = int (input (\"Ingrese el primer numero\"))\n",
    "        num2 = int (input (\"Ingrese el segundo numero\"))\n",
    "        \n",
    "         if opcion == 1 :\n",
    "            print (suma(num1,num2))\n",
    "         elif opcion == 2 :\n",
    "            print (resta(num1, num2))\n",
    "         elif opcion == 3 :\n",
    "            print (multiplicacion(num1, num2))\n",
    "         elif opcion == 4 :\n",
    "            print (division(num1, num2))\n",
    "            "
   ]
  }
 ],
 "metadata": {
  "kernelspec": {
   "display_name": "Python 3",
   "language": "python",
   "name": "python3"
  },
  "language_info": {
   "codemirror_mode": {
    "name": "ipython",
    "version": 3
   },
   "file_extension": ".py",
   "mimetype": "text/x-python",
   "name": "python",
   "nbconvert_exporter": "python",
   "pygments_lexer": "ipython3",
   "version": "3.11.2"
  },
  "orig_nbformat": 4
 },
 "nbformat": 4,
 "nbformat_minor": 2
}
