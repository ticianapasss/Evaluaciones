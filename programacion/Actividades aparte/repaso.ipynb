{
 "cells": [
  {
   "cell_type": "code",
   "execution_count": 1,
   "metadata": {},
   "outputs": [],
   "source": [
    "def menuInicial():\n",
    "    menu = '''\n",
    "    ********************\n",
    "    *     1-SUMA       *     \n",
    "    *     2-RESTA      *\n",
    "    *     3-MULTI      *\n",
    "    *     4-DIVI       *\n",
    "    *     5-SALIR      *\n",
    "    ********************\n",
    "    '''\n",
    "    print(menu)\n",
    "    opciones = int(input(\"ingrese la opcion deseada: \"))\n",
    "    return(opciones)"
   ]
  },
  {
   "cell_type": "code",
   "execution_count": 2,
   "metadata": {},
   "outputs": [],
   "source": [
    "def suma(a,b):\n",
    "    return(a+b)\n",
    "\n",
    "def resta(a,b):\n",
    "    return(a-b)\n",
    "\n",
    "def multi(a,b):\n",
    "    return(a*b)\n",
    "\n",
    "def divi(a,b):\n",
    "\n",
    "    if b == 0:\n",
    "        b = int(input(\"No se puede dividir por cero, ingrese otro numero: \"))\n",
    "    else:\n",
    "        return(a/b)\n"
   ]
  },
  {
   "cell_type": "code",
   "execution_count": null,
   "metadata": {},
   "outputs": [],
   "source": [
    "while True:\n",
    "    opcion = menuInicial()\n",
    "\n",
    "    if opcion == 5:\n",
    "        break\n",
    "\n",
    "    else:\n",
    "        num1 = int(input(\"Ingrese un numero entero: \"))\n",
    "        num2 = int(input(\"Ingrese un numero entero: \"))\n",
    "\n",
    "        if opcion == 1:\n",
    "            print(suma(num1,num2))\n",
    "        \n",
    "        elif opcion == 2:\n",
    "            print(resta(num1,num2))\n",
    "        \n",
    "        elif opcion == 3:\n",
    "            print(multi(num1,num2))\n",
    "        \n",
    "        elif opcion == 4:\n",
    "            print(divi(num1,num2))"
   ]
  }
 ],
 "metadata": {
  "kernelspec": {
   "display_name": "Python 3",
   "language": "python",
   "name": "python3"
  },
  "language_info": {
   "codemirror_mode": {
    "name": "ipython",
    "version": 3
   },
   "file_extension": ".py",
   "mimetype": "text/x-python",
   "name": "python",
   "nbconvert_exporter": "python",
   "pygments_lexer": "ipython3",
   "version": "3.11.2"
  },
  "orig_nbformat": 4
 },
 "nbformat": 4,
 "nbformat_minor": 2
}
