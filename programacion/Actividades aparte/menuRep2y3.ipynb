{
 "cells": [
  {
   "cell_type": "code",
   "execution_count": 8,
   "metadata": {},
   "outputs": [],
   "source": [
    "def menu():\n",
    "    opciones= '''\n",
    "    **************************\n",
    "    *       Pasaje de:       *\n",
    "    * 1- Celsius a Farenheit *\n",
    "    * 2- Farenheit a Celsius *\n",
    "    * 3-salida               *\n",
    "    **************************\n",
    "    '''\n",
    "    print(opciones)\n",
    "    opcion = int(input(\"Ingrese la opcion que desee realizar\"))\n",
    "    return(opcion)"
   ]
  },
  {
   "cell_type": "code",
   "execution_count": 11,
   "metadata": {},
   "outputs": [],
   "source": [
    "def celsius(a):\n",
    "                gf = a * 1.8 + 32\n",
    "                \n",
    "                return(gf)"
   ]
  },
  {
   "cell_type": "code",
   "execution_count": null,
   "metadata": {},
   "outputs": [],
   "source": [
    "def farenheit(a):\n",
    "                gc=(gf-32)/1.8\n",
    "                \n",
    "                return (gc)"
   ]
  },
  {
   "cell_type": "code",
   "execution_count": null,
   "metadata": {},
   "outputs": [],
   "source": [
    "while True:\n",
    "\n",
    "    opcion=menu ()\n",
    "\n",
    "    if opcion == 3:\n",
    "        break\n",
    "    else:\n",
    "        if opcion == 1:\n",
    "            gc = int(input(\"ingrese los grados en celsius : \"))\n",
    "\n",
    "            far =celsius(gc)\n",
    "                \n",
    "            print(f\"el valor de {gc} pasado a far... es : {far}\")\n",
    "\n",
    "        elif opcion == 2:\n",
    "            gf=int(input(\"ingrese los valores de farenheit\"))\n",
    "            cel = farenheit(gf)\n",
    "\n",
    "            print(f\"el valor de {gf} pasado a celcius es : {farenheit()}\")\n"
   ]
  }
 ],
 "metadata": {
  "kernelspec": {
   "display_name": "Python 3",
   "language": "python",
   "name": "python3"
  },
  "language_info": {
   "codemirror_mode": {
    "name": "ipython",
    "version": 3
   },
   "file_extension": ".py",
   "mimetype": "text/x-python",
   "name": "python",
   "nbconvert_exporter": "python",
   "pygments_lexer": "ipython3",
   "version": "3.11.1"
  },
  "orig_nbformat": 4
 },
 "nbformat": 4,
 "nbformat_minor": 2
}
